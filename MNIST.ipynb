{
 "cells": [
  {
   "cell_type": "code",
   "execution_count": 13,
   "metadata": {},
   "outputs": [],
   "source": [
    "import numpy as np\n",
    "import pandas as pd\n",
    "import matplotlib.pyplot as plt\n",
    "import seaborn as sn\n",
    "\n",
    "from sklearn.decomposition import PCA\n",
    "from sklearn.linear_model import LogisticRegression\n",
    "from sklearn.pipeline import Pipeline\n",
    "from sklearn.model_selection import GridSearchCV\n",
    "\n",
    "from imblearn.under_sampling import TomekLinks\n",
    "from imblearn.over_sampling import SMOTE\n",
    "from imblearn.combine import SMOTETomek\n",
    "\n",
    "%matplotlib inline"
   ]
  },
  {
   "cell_type": "code",
   "execution_count": 14,
   "metadata": {},
   "outputs": [],
   "source": [
    "from sklearn.datasets import fetch_openml\n",
    "X, y = fetch_openml('mnist_784', version=1, return_X_y=True)"
   ]
  },
  {
   "cell_type": "code",
   "execution_count": 15,
   "metadata": {},
   "outputs": [
    {
     "data": {
      "text/plain": [
       "((70000, 784), (70000,))"
      ]
     },
     "execution_count": 15,
     "metadata": {},
     "output_type": "execute_result"
    }
   ],
   "source": [
    "X.shape, y.shape"
   ]
  },
  {
   "cell_type": "code",
   "execution_count": 16,
   "metadata": {},
   "outputs": [],
   "source": [
    "from sklearn.model_selection import train_test_split\n",
    "x_train,x_test,y_train,y_test=train_test_split(X,y,train_size=60000,test_size=10000)\n",
    "\n",
    "# performing preprocessing part \n",
    "from sklearn.preprocessing import StandardScaler \n",
    "scaler=StandardScaler()\n",
    "x_train=scaler.fit_transform(x_train)\n",
    "x_test=scaler.transform(x_test)"
   ]
  },
  {
   "cell_type": "code",
   "execution_count": 12,
   "metadata": {},
   "outputs": [],
   "source": [
    "def find_best_hyper_parameters(X,y, show_plot=True):\n",
    "    #Define a pipeline to search for the best combination of PCA truncation\n",
    "    #and classifier regularization.\n",
    "    pca=PCA()\n",
    "    # set the tolerance to a large value to make the example faster\n",
    "    logistic=LogisticRegression(random_state=0, multi_class='auto', class_weight='balanced', max_iter=10000, tol=0.1)\n",
    "    #logistic=svm.SVC(random_state=0, class_weight='balanced', gamma='auto')\n",
    "    pipe=Pipeline(steps=[('pca', pca), ('logistic', logistic)])\n",
    "\n",
    "    X_digits, y_digits = X, y #x_train, y_train #datasets.load_digits(return_X_y=True)\n",
    "\n",
    "    # Parameters of pipelines can be set using ‘__’ separated parameter names:\n",
    "    param_grid = {\n",
    "        'pca__n_components': [27],\n",
    "        'logistic__C': np.logspace(-4, 4, 5),\n",
    "        #'logistic__penalty': ['l1', 'l2'],\n",
    "        'logistic__solver': ['newton-cg', 'lbfgs', 'sag', 'saga'],\n",
    "        #'svc__kernel': ['linear', 'poly', 'rbf'],\n",
    "        \n",
    "    }\n",
    "    search = GridSearchCV(pipe, param_grid, n_jobs=-1, cv=5, return_train_score=False)\n",
    "    search.fit(X_digits, y_digits)\n",
    "    print(\"Best parameter (CV score=%0.3f):\" % search.best_score_)\n",
    "    print(search.best_params_)\n",
    "    \n",
    "    if show_plot:\n",
    "        # Plot the PCA spectrum\n",
    "        pca.fit(X_digits)\n",
    "\n",
    "        fig, (ax0, ax1) = plt.subplots(nrows=2, sharex=True, figsize=(6, 6))\n",
    "        ax0.plot(pca.explained_variance_ratio_, linewidth=2)\n",
    "        ax0.set_ylabel('PCA explained variance')\n",
    "\n",
    "        ax0.axvline(search.best_estimator_.named_steps['pca'].n_components, linestyle=':', label='n_components chosen')\n",
    "        ax0.legend(prop=dict(size=12))\n",
    "\n",
    "        # For each number of components, find the best classifier results\n",
    "        results = pd.DataFrame(search.cv_results_)\n",
    "        components_col = 'param_pca__n_components'\n",
    "        best_clfs = results.groupby(components_col).apply(lambda g: g.nlargest(1, 'mean_test_score'))\n",
    "\n",
    "        best_clfs.plot(x=components_col, y='mean_test_score', yerr='std_test_score', legend=False, ax=ax1)\n",
    "        ax1.set_ylabel('Classification accuracy (val)')\n",
    "        ax1.set_xlabel('n_components')\n",
    "\n",
    "        plt.tight_layout()\n",
    "        plt.show()\n",
    "\n",
    "    return search"
   ]
  },
  {
   "cell_type": "code",
   "execution_count": 17,
   "metadata": {},
   "outputs": [
    {
     "name": "stderr",
     "output_type": "stream",
     "text": [
      "/home/sonamsk/anaconda3/lib/python3.7/site-packages/sklearn/linear_model/logistic.py:432: FutureWarning: Default solver will be changed to 'lbfgs' in 0.22. Specify a solver to silence this warning.\n",
      "  FutureWarning)\n",
      "/home/sonamsk/anaconda3/lib/python3.7/site-packages/sklearn/linear_model/logistic.py:469: FutureWarning: Default multi_class will be changed to 'auto' in 0.22. Specify the multi_class option to silence this warning.\n",
      "  \"this warning.\", FutureWarning)\n"
     ]
    },
    {
     "data": {
      "text/plain": [
       "0.9198"
      ]
     },
     "execution_count": 17,
     "metadata": {},
     "output_type": "execute_result"
    }
   ],
   "source": [
    "from sklearn.metrics import accuracy_score\n",
    "logreg=LogisticRegression()\n",
    "logreg.fit(x_train,y_train)\n",
    "pred=logreg.predict(x_test)\n",
    "accuracy_score(y_test,pred)\n",
    "#logreg.score(x_test,y_test)"
   ]
  },
  {
   "cell_type": "code",
   "execution_count": 28,
   "metadata": {},
   "outputs": [
    {
     "name": "stdout",
     "output_type": "stream",
     "text": [
      "Best parameter (CV score=0.884):\n",
      "{'logistic__C': 100.0, 'logistic__multi_class': 'auto', 'logistic__solver': 'lbfgs', 'pca__n_components': 27}\n"
     ]
    },
    {
     "data": {
      "image/png": "[encoded data removed]",
      "text/plain": [
       "<Figure size 432x432 with 2 Axes>"
      ]
     },
     "metadata": {
      "needs_background": "light"
     },
     "output_type": "display_data"
    }
   ],
   "source": [
    "final_clf_x_train = find_best_hyper_parameters(x_train, y_train, show_plot=True)"
   ]
  },
  {
   "cell_type": "code",
   "execution_count": null,
   "metadata": {},
   "outputs": [],
   "source": [
    "pred=final_clf_x_train.predict(x_test)\n",
    "submission = pd.DataFrame()\n",
    "submission['target']=pred\n",
    "submission.to_csv('submission.csv',header=True,index=False)"
   ]
  },
  {
   "cell_type": "code",
   "execution_count": null,
   "metadata": {},
   "outputs": [],
   "source": []
  }
 ],
 "metadata": {
  "kernelspec": {
   "display_name": "Python 3",
   "language": "python",
   "name": "python3"
  },
  "language_info": {
   "codemirror_mode": {
    "name": "ipython",
    "version": 3
   },
   "file_extension": ".py",
   "mimetype": "text/x-python",
   "name": "python",
   "nbconvert_exporter": "python",
   "pygments_lexer": "ipython3",
   "version": "3.7.3"
  }
 },
 "nbformat": 4,
 "nbformat_minor": 2
}
